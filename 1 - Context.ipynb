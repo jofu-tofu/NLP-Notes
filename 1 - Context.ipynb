{
 "cells": [
  {
   "cell_type": "markdown",
   "metadata": {},
   "source": [
    "***\n",
    "# Context\n",
    "***\n",
    "\n",
    "### Summary of this section\n",
    "Before we get into NLP and LLM's, we need to go over the basics that preceed them."
   ]
  },
  {
   "cell_type": "markdown",
   "metadata": {},
   "source": [
    "## 1 - Background of Neural Networks"
   ]
  },
  {
   "cell_type": "markdown",
   "metadata": {},
   "source": [
    "### Perceptions\n",
    "#### Big Idea\n",
    "\n",
    "_**Biological Context:**_\n",
    "Modeled after the brain, perceptions are like neurons and synapses in the human brain. A high enough electrical current can activate neurons and send signals through the corresponding synapse.\n",
    "Once the signal is sent, the neuron turns off. Higher number of activations strengthens the neurons and becomes more important. \n",
    "The way all the neurons connect with each other with its varying strengths of connections can help us respond to external stimuli though some kind of output.\n",
    "\n",
    "_**ML Adaptation:**_\n",
    "Taking an input vector, the perceptions multiplies it by a weight vector to get \n",
    "\n",
    "\n",
    "#### Perception Flow\n",
    "Perceptions are nodes that take an input and gives an output. Inputs can any vector of real numbers. These numbers"
   ]
  },
  {
   "cell_type": "markdown",
   "metadata": {},
   "source": [
    "## 2 - Background of NLP"
   ]
  }
 ],
 "metadata": {
  "kernelspec": {
   "display_name": "aimo",
   "language": "python",
   "name": "python3"
  },
  "language_info": {
   "name": "python",
   "version": "3.11.9"
  }
 },
 "nbformat": 4,
 "nbformat_minor": 2
}
